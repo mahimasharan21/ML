{
  "nbformat": 4,
  "nbformat_minor": 0,
  "metadata": {
    "kernelspec": {
      "name": "python3",
      "display_name": "Python 3"
    },
    "toc": {
      "nav_menu": {},
      "number_sections": true,
      "sideBar": true,
      "skip_h1_title": false,
      "toc_cell": true,
      "toc_position": {},
      "toc_section_display": "block",
      "toc_window_display": false
    },
    "colab": {
      "provenance": [],
      "include_colab_link": true
    },
    "accelerator": "GPU"
  },
  "cells": [
    {
      "cell_type": "markdown",
      "metadata": {
        "id": "view-in-github",
        "colab_type": "text"
      },
      "source": [
        "<a href=\"https://colab.research.google.com/github/mahimasharan21/ML/blob/main/Neural_network_for_Mnist_number_dataset.ipynb\" target=\"_parent\"><img src=\"https://colab.research.google.com/assets/colab-badge.svg\" alt=\"Open In Colab\"/></a>"
      ]
    },
    {
      "cell_type": "markdown",
      "source": [],
      "metadata": {
        "id": "aK_1LHdwQpF9"
      }
    },
    {
      "cell_type": "markdown",
      "metadata": {
        "id": "view-in-github"
      },
      "source": [
        "<a href=\"https://colab.research.google.com/github/Mustafalw02/Machine-Learning-Lab-Work/blob/master/Neural_network_for_Mnist_number_dataset.ipynb\" target=\"_parent\"><img src=\"https://colab.research.google.com/assets/colab-badge.svg\" alt=\"Open In Colab\"/></a>"
      ]
    },
    {
      "cell_type": "markdown",
      "metadata": {
        "toc": true,
        "id": "zQvT7bhRzp4e"
      },
      "source": [
        "<h1>Table of Contents<span class=\"tocSkip\"></span></h1>\n",
        "<div class=\"toc\" style=\"margin-top: 1em;\"><ul class=\"toc-item\"><li><span><a href=\"#Loading-the-MNIST-dataset-in-Keras\" data-toc-modified-id=\"Loading-the-MNIST-dataset-in-Keras-1\"><span class=\"toc-item-num\">1&nbsp;&nbsp;</span>Loading the MNIST dataset in Keras</a></span></li><li><span><a href=\"#The-network-architecture\" data-toc-modified-id=\"The-network-architecture-2\"><span class=\"toc-item-num\">2&nbsp;&nbsp;</span>The network architecture</a></span></li><li><span><a href=\"#The-compilation-step\" data-toc-modified-id=\"The-compilation-step-3\"><span class=\"toc-item-num\">3&nbsp;&nbsp;</span>The compilation step</a></span></li><li><span><a href=\"#Preparing-the-image-data\" data-toc-modified-id=\"Preparing-the-image-data-4\"><span class=\"toc-item-num\">4&nbsp;&nbsp;</span>Preparing the image data</a></span></li><li><span><a href=\"#Preparing-the-labels\" data-toc-modified-id=\"Preparing-the-labels-5\"><span class=\"toc-item-num\">5&nbsp;&nbsp;</span>Preparing the labels</a></span></li><li><span><a href=\"#Training-and-Testing\" data-toc-modified-id=\"Training-and-Testing-6\"><span class=\"toc-item-num\">6&nbsp;&nbsp;</span>Training and Testing</a></span></li></ul></div>"
      ]
    },
    {
      "cell_type": "markdown",
      "metadata": {
        "id": "GSee4zKUzp4i"
      },
      "source": [
        "# Loading the MNIST dataset in Keras"
      ]
    },
    {
      "cell_type": "code",
      "metadata": {
        "id": "6a8IveFHzp4l"
      },
      "source": [
        "from keras.datasets import mnist"
      ],
      "execution_count": 1,
      "outputs": []
    },
    {
      "cell_type": "code",
      "metadata": {
        "id": "LQPmnZ8xzp4v",
        "colab": {
          "base_uri": "https://localhost:8080/"
        },
        "outputId": "e3ec3e97-b040-4ab7-d450-6cc994895f8d"
      },
      "source": [
        "(train_images, train_labels), (test_images, test_labels) = mnist.load_data()"
      ],
      "execution_count": 2,
      "outputs": [
        {
          "output_type": "stream",
          "name": "stdout",
          "text": [
            "Downloading data from https://storage.googleapis.com/tensorflow/tf-keras-datasets/mnist.npz\n",
            "11490434/11490434 [==============================] - 2s 0us/step\n"
          ]
        }
      ]
    },
    {
      "cell_type": "markdown",
      "metadata": {
        "id": "mnZfS9HYzp4z"
      },
      "source": [
        "- The images are encoded as Numpy arrays, and the labels are an array of digits, ranging from 0 to 9."
      ]
    },
    {
      "cell_type": "code",
      "metadata": {
        "id": "VFdoffSmzp41",
        "colab": {
          "base_uri": "https://localhost:8080/"
        },
        "outputId": "1bd193fa-9ab8-4c8c-847f-17c40a5e4090"
      },
      "source": [
        "train_images.shape\n"
      ],
      "execution_count": 3,
      "outputs": [
        {
          "output_type": "execute_result",
          "data": {
            "text/plain": [
              "(60000, 28, 28)"
            ]
          },
          "metadata": {},
          "execution_count": 3
        }
      ]
    },
    {
      "cell_type": "code",
      "metadata": {
        "id": "tD65nC-vzp45",
        "colab": {
          "base_uri": "https://localhost:8080/"
        },
        "outputId": "61805a79-b1a6-4c3d-f31a-a581e6555b35"
      },
      "source": [
        "len(train_labels)"
      ],
      "execution_count": 4,
      "outputs": [
        {
          "output_type": "execute_result",
          "data": {
            "text/plain": [
              "60000"
            ]
          },
          "metadata": {},
          "execution_count": 4
        }
      ]
    },
    {
      "cell_type": "code",
      "metadata": {
        "id": "IX9LpWNazp4_",
        "colab": {
          "base_uri": "https://localhost:8080/"
        },
        "outputId": "732d4c43-ed3b-4d8b-bdb1-dc52ea7889f6"
      },
      "source": [
        "train_labels"
      ],
      "execution_count": 5,
      "outputs": [
        {
          "output_type": "execute_result",
          "data": {
            "text/plain": [
              "array([5, 0, 4, ..., 5, 6, 8], dtype=uint8)"
            ]
          },
          "metadata": {},
          "execution_count": 5
        }
      ]
    },
    {
      "cell_type": "code",
      "metadata": {
        "id": "SG0L5p4Dzp5D",
        "colab": {
          "base_uri": "https://localhost:8080/"
        },
        "outputId": "5fc0813e-7cd7-44d8-dd5c-82aadf14664a"
      },
      "source": [
        "test_images.shape"
      ],
      "execution_count": 6,
      "outputs": [
        {
          "output_type": "execute_result",
          "data": {
            "text/plain": [
              "(10000, 28, 28)"
            ]
          },
          "metadata": {},
          "execution_count": 6
        }
      ]
    },
    {
      "cell_type": "code",
      "metadata": {
        "id": "MimOH_Xnzp5I",
        "colab": {
          "base_uri": "https://localhost:8080/"
        },
        "outputId": "cd0bae75-8a94-487d-e5f1-3c447f94dbfa"
      },
      "source": [
        "len(test_labels)"
      ],
      "execution_count": 7,
      "outputs": [
        {
          "output_type": "execute_result",
          "data": {
            "text/plain": [
              "10000"
            ]
          },
          "metadata": {},
          "execution_count": 7
        }
      ]
    },
    {
      "cell_type": "code",
      "metadata": {
        "id": "8EHR0v0Bzp5M",
        "colab": {
          "base_uri": "https://localhost:8080/"
        },
        "outputId": "5ecc601b-bb11-4589-acb5-facca5084ba2"
      },
      "source": [
        "test_labels"
      ],
      "execution_count": 8,
      "outputs": [
        {
          "output_type": "execute_result",
          "data": {
            "text/plain": [
              "array([7, 2, 1, ..., 4, 5, 6], dtype=uint8)"
            ]
          },
          "metadata": {},
          "execution_count": 8
        }
      ]
    },
    {
      "cell_type": "markdown",
      "metadata": {
        "id": "s0Tp6nDRzp5R"
      },
      "source": [
        "Let's build the network"
      ]
    },
    {
      "cell_type": "markdown",
      "metadata": {
        "id": "WxbJXg2Czp5T"
      },
      "source": [
        "# The network architecture"
      ]
    },
    {
      "cell_type": "markdown",
      "metadata": {
        "id": "kGCxNrDdzp5U"
      },
      "source": [
        "- The core building block of neural networks is the **layer**, a data-processing module that you can think of as a filter for data.\n",
        "    - Some data goes in, and it comes out in a more useful form.\n",
        "    - Layers extract **representations** (hopefully, meaningful for the data problem at hand) out of the data fed into them.\n",
        "    \n",
        "- Most of deep learning consists of chaining together simple layers that will implement a form of progressive **data distillation**.\n",
        "- A deep learning model is like a sieve for data-processing, made of a succession of increasingly refined data filters--**the layers**."
      ]
    },
    {
      "cell_type": "code",
      "metadata": {
        "id": "uyUqGjPTzp5V"
      },
      "source": [
        "from keras import models\n",
        "from keras import layers"
      ],
      "execution_count": 9,
      "outputs": []
    },
    {
      "cell_type": "code",
      "metadata": {
        "id": "NEVk0S9_zp5a",
        "colab": {
          "base_uri": "https://localhost:8080/"
        },
        "outputId": "76928029-39de-46e5-9788-56bcccdbf299"
      },
      "source": [
        "network = models.Sequential()\n",
        "# Dense(32) is a fully-connected layer with 32 hidden units.\n",
        "# in the first layer, you must specify the expected input data shape :\n",
        "# here, 28 X 28=784 -dimensional vectors.\n",
        "network.add(layers.Dense(32, activation='sigmoid', input_shape=(28 * 28, )))\n",
        "network.add(layers.Dense(8, activation='sigmoid'))\n",
        "network.add(layers.Dense(10, activation='softmax'))\n",
        "network.summary()"
      ],
      "execution_count": 12,
      "outputs": [
        {
          "output_type": "stream",
          "name": "stdout",
          "text": [
            "Model: \"sequential_1\"\n",
            "_________________________________________________________________\n",
            " Layer (type)                Output Shape              Param #   \n",
            "=================================================================\n",
            " dense_3 (Dense)             (None, 32)                25120     \n",
            "                                                                 \n",
            " dense_4 (Dense)             (None, 8)                 264       \n",
            "                                                                 \n",
            " dense_5 (Dense)             (None, 10)                90        \n",
            "                                                                 \n",
            "=================================================================\n",
            "Total params: 25,474\n",
            "Trainable params: 25,474\n",
            "Non-trainable params: 0\n",
            "_________________________________________________________________\n"
          ]
        }
      ]
    },
    {
      "cell_type": "code",
      "source": [
        "from google.colab import drive\n",
        "drive.mount('/content/drive')"
      ],
      "metadata": {
        "colab": {
          "base_uri": "https://localhost:8080/"
        },
        "id": "KJSFxZe_e0vC",
        "outputId": "ceaee92b-558f-4b24-f36c-5cd14f655718"
      },
      "execution_count": 11,
      "outputs": [
        {
          "output_type": "stream",
          "name": "stdout",
          "text": [
            "Mounted at /content/drive\n"
          ]
        }
      ]
    },
    {
      "cell_type": "markdown",
      "metadata": {
        "id": "Af2c2tvKzp5f"
      },
      "source": [
        "- Our network consists of a sequence of two *Dense* layers, which are densely connected (also called *fully connected*) neural layers.\n",
        "- The second (and last) layer is a **10-way** *softmax* layer, which means it will return an array of **10** probability scores. Each score will be the probability that the current digit image belongs to one of our 10 digit classes. "
      ]
    },
    {
      "cell_type": "markdown",
      "metadata": {
        "id": "NHbqJ-rWzp5g"
      },
      "source": [
        "# The compilation step"
      ]
    },
    {
      "cell_type": "markdown",
      "metadata": {
        "id": "1w0ne5wYzp5h"
      },
      "source": [
        "- To make the network ready for training, we need to pick three more things, as part of the **compilation** step:\n",
        " - **A loss function**-- How the network will be able to measure its performance on the training data, and thus how it will be able to steer itself in the right direction.\n",
        " - **An optimizer**--The mechanism through which the network will update itself based on the data it sees and its loss function.\n",
        " - **Metrics to monitor during training and testing**--Here, we will only care about accuracy (the fraction of the images that were correctly classified)."
      ]
    },
    {
      "cell_type": "code",
      "metadata": {
        "id": "uvSO-q9Ozp5i"
      },
      "source": [
        "network.compile(optimizer='sgd',\n",
        "                loss='categorical_crossentropy',\n",
        "                metrics=['accuracy'])\n",
        "    "
      ],
      "execution_count": 13,
      "outputs": []
    },
    {
      "cell_type": "markdown",
      "metadata": {
        "id": "fLHJqTLXzp5o"
      },
      "source": [
        "# Preparing the image data"
      ]
    },
    {
      "cell_type": "markdown",
      "metadata": {
        "id": "ajWKVl1-zp5q"
      },
      "source": [
        "Before training, we will preprocess the data by reshaping it into the shape the network expects and scaling it so that all values are in the $[0-1]$ interval."
      ]
    },
    {
      "cell_type": "code",
      "metadata": {
        "id": "4vMdz75Wzp5s"
      },
      "source": [
        "train_images = train_images.reshape((60000, 28 * 28))\n",
        "train_images = train_images.astype('float32') / 255."
      ],
      "execution_count": 14,
      "outputs": []
    },
    {
      "cell_type": "code",
      "metadata": {
        "id": "4icW7vDgzp5w"
      },
      "source": [
        "test_images = test_images.reshape((10000, 28 * 28))\n",
        "test_images = test_images.astype('float32') / 255."
      ],
      "execution_count": 15,
      "outputs": []
    },
    {
      "cell_type": "markdown",
      "metadata": {
        "id": "0SHD8Vvhzp5z"
      },
      "source": [
        "# Preparing the labels"
      ]
    },
    {
      "cell_type": "markdown",
      "metadata": {
        "id": "JA1YmuF1zp51"
      },
      "source": [
        "We also need to categorically encode the labels."
      ]
    },
    {
      "cell_type": "code",
      "metadata": {
        "id": "Bh42ABtgzp58"
      },
      "source": [
        "from keras.utils import to_categorical"
      ],
      "execution_count": 16,
      "outputs": []
    },
    {
      "cell_type": "code",
      "metadata": {
        "id": "3eCqlapJzp6A",
        "colab": {
          "base_uri": "https://localhost:8080/"
        },
        "outputId": "a27b81e0-8cec-440f-9355-b39c59eab044"
      },
      "source": [
        "train_labels = to_categorical(train_labels)\n",
        "train_labels"
      ],
      "execution_count": 17,
      "outputs": [
        {
          "output_type": "execute_result",
          "data": {
            "text/plain": [
              "array([[0., 0., 0., ..., 0., 0., 0.],\n",
              "       [1., 0., 0., ..., 0., 0., 0.],\n",
              "       [0., 0., 0., ..., 0., 0., 0.],\n",
              "       ...,\n",
              "       [0., 0., 0., ..., 0., 0., 0.],\n",
              "       [0., 0., 0., ..., 0., 0., 0.],\n",
              "       [0., 0., 0., ..., 0., 1., 0.]], dtype=float32)"
            ]
          },
          "metadata": {},
          "execution_count": 17
        }
      ]
    },
    {
      "cell_type": "code",
      "metadata": {
        "id": "wWXDQKNBzp6E",
        "colab": {
          "base_uri": "https://localhost:8080/"
        },
        "outputId": "da29f56b-1059-46e3-af3e-89d42d937b1e"
      },
      "source": [
        "test_labels = to_categorical(test_labels)\n",
        "test_labels"
      ],
      "execution_count": 18,
      "outputs": [
        {
          "output_type": "execute_result",
          "data": {
            "text/plain": [
              "array([[0., 0., 0., ..., 1., 0., 0.],\n",
              "       [0., 0., 1., ..., 0., 0., 0.],\n",
              "       [0., 1., 0., ..., 0., 0., 0.],\n",
              "       ...,\n",
              "       [0., 0., 0., ..., 0., 0., 0.],\n",
              "       [0., 0., 0., ..., 0., 0., 0.],\n",
              "       [0., 0., 0., ..., 0., 0., 0.]], dtype=float32)"
            ]
          },
          "metadata": {},
          "execution_count": 18
        }
      ]
    },
    {
      "cell_type": "markdown",
      "metadata": {
        "id": "csJ7yQVxzp6I"
      },
      "source": [
        "# Training and Testing"
      ]
    },
    {
      "cell_type": "markdown",
      "metadata": {
        "id": "P-KLV-VIzp6K"
      },
      "source": [
        "We are now ready to train the network, which in Keras is done via a call to the network's fit method--we fit the model to its training data:"
      ]
    },
    {
      "cell_type": "code",
      "metadata": {
        "id": "sGWa7zXYzp6O",
        "colab": {
          "base_uri": "https://localhost:8080/"
        },
        "outputId": "7d95352d-4ebc-4bbe-a041-d1d56143c0f9"
      },
      "source": [
        "network.fit(train_images, train_labels, epochs=300, batch_size=512)"
      ],
      "execution_count": 22,
      "outputs": [
        {
          "output_type": "stream",
          "name": "stdout",
          "text": [
            "Epoch 1/300\n",
            "118/118 [==============================] - 0s 3ms/step - loss: 0.4570 - accuracy: 0.8810\n",
            "Epoch 2/300\n",
            "118/118 [==============================] - 0s 3ms/step - loss: 0.4558 - accuracy: 0.8812\n",
            "Epoch 3/300\n",
            "118/118 [==============================] - 0s 3ms/step - loss: 0.4546 - accuracy: 0.8816\n",
            "Epoch 4/300\n",
            "118/118 [==============================] - 0s 4ms/step - loss: 0.4534 - accuracy: 0.8818\n",
            "Epoch 5/300\n",
            "118/118 [==============================] - 0s 3ms/step - loss: 0.4523 - accuracy: 0.8821\n",
            "Epoch 6/300\n",
            "118/118 [==============================] - 0s 3ms/step - loss: 0.4511 - accuracy: 0.8823\n",
            "Epoch 7/300\n",
            "118/118 [==============================] - 0s 4ms/step - loss: 0.4499 - accuracy: 0.8826\n",
            "Epoch 8/300\n",
            "118/118 [==============================] - 0s 4ms/step - loss: 0.4488 - accuracy: 0.8829\n",
            "Epoch 9/300\n",
            "118/118 [==============================] - 0s 3ms/step - loss: 0.4476 - accuracy: 0.8831\n",
            "Epoch 10/300\n",
            "118/118 [==============================] - 0s 4ms/step - loss: 0.4465 - accuracy: 0.8834\n",
            "Epoch 11/300\n",
            "118/118 [==============================] - 0s 3ms/step - loss: 0.4454 - accuracy: 0.8838\n",
            "Epoch 12/300\n",
            "118/118 [==============================] - 0s 3ms/step - loss: 0.4443 - accuracy: 0.8842\n",
            "Epoch 13/300\n",
            "118/118 [==============================] - 0s 3ms/step - loss: 0.4431 - accuracy: 0.8845\n",
            "Epoch 14/300\n",
            "118/118 [==============================] - 0s 3ms/step - loss: 0.4420 - accuracy: 0.8847\n",
            "Epoch 15/300\n",
            "118/118 [==============================] - 0s 3ms/step - loss: 0.4409 - accuracy: 0.8849\n",
            "Epoch 16/300\n",
            "118/118 [==============================] - 0s 3ms/step - loss: 0.4398 - accuracy: 0.8853\n",
            "Epoch 17/300\n",
            "118/118 [==============================] - 0s 3ms/step - loss: 0.4388 - accuracy: 0.8854\n",
            "Epoch 18/300\n",
            "118/118 [==============================] - 0s 3ms/step - loss: 0.4377 - accuracy: 0.8860\n",
            "Epoch 19/300\n",
            "118/118 [==============================] - 0s 4ms/step - loss: 0.4366 - accuracy: 0.8859\n",
            "Epoch 20/300\n",
            "118/118 [==============================] - 1s 4ms/step - loss: 0.4356 - accuracy: 0.8863\n",
            "Epoch 21/300\n",
            "118/118 [==============================] - 1s 5ms/step - loss: 0.4345 - accuracy: 0.8865\n",
            "Epoch 22/300\n",
            "118/118 [==============================] - 1s 5ms/step - loss: 0.4334 - accuracy: 0.8868\n",
            "Epoch 23/300\n",
            "118/118 [==============================] - 1s 5ms/step - loss: 0.4324 - accuracy: 0.8870\n",
            "Epoch 24/300\n",
            "118/118 [==============================] - 1s 4ms/step - loss: 0.4314 - accuracy: 0.8873\n",
            "Epoch 25/300\n",
            "118/118 [==============================] - 0s 4ms/step - loss: 0.4303 - accuracy: 0.8875\n",
            "Epoch 26/300\n",
            "118/118 [==============================] - 1s 4ms/step - loss: 0.4293 - accuracy: 0.8877\n",
            "Epoch 27/300\n",
            "118/118 [==============================] - 0s 4ms/step - loss: 0.4283 - accuracy: 0.8880\n",
            "Epoch 28/300\n",
            "118/118 [==============================] - 0s 4ms/step - loss: 0.4273 - accuracy: 0.8881\n",
            "Epoch 29/300\n",
            "118/118 [==============================] - 0s 3ms/step - loss: 0.4263 - accuracy: 0.8882\n",
            "Epoch 30/300\n",
            "118/118 [==============================] - 0s 4ms/step - loss: 0.4253 - accuracy: 0.8883\n",
            "Epoch 31/300\n",
            "118/118 [==============================] - 0s 3ms/step - loss: 0.4243 - accuracy: 0.8885\n",
            "Epoch 32/300\n",
            "118/118 [==============================] - 0s 3ms/step - loss: 0.4233 - accuracy: 0.8888\n",
            "Epoch 33/300\n",
            "118/118 [==============================] - 0s 3ms/step - loss: 0.4223 - accuracy: 0.8890\n",
            "Epoch 34/300\n",
            "118/118 [==============================] - 0s 3ms/step - loss: 0.4213 - accuracy: 0.8893\n",
            "Epoch 35/300\n",
            "118/118 [==============================] - 0s 3ms/step - loss: 0.4204 - accuracy: 0.8893\n",
            "Epoch 36/300\n",
            "118/118 [==============================] - 0s 3ms/step - loss: 0.4194 - accuracy: 0.8895\n",
            "Epoch 37/300\n",
            "118/118 [==============================] - 0s 3ms/step - loss: 0.4184 - accuracy: 0.8898\n",
            "Epoch 38/300\n",
            "118/118 [==============================] - 0s 3ms/step - loss: 0.4175 - accuracy: 0.8899\n",
            "Epoch 39/300\n",
            "118/118 [==============================] - 0s 3ms/step - loss: 0.4165 - accuracy: 0.8902\n",
            "Epoch 40/300\n",
            "118/118 [==============================] - 0s 4ms/step - loss: 0.4156 - accuracy: 0.8904\n",
            "Epoch 41/300\n",
            "118/118 [==============================] - 0s 3ms/step - loss: 0.4146 - accuracy: 0.8907\n",
            "Epoch 42/300\n",
            "118/118 [==============================] - 0s 3ms/step - loss: 0.4137 - accuracy: 0.8908\n",
            "Epoch 43/300\n",
            "118/118 [==============================] - 0s 3ms/step - loss: 0.4128 - accuracy: 0.8912\n",
            "Epoch 44/300\n",
            "118/118 [==============================] - 0s 3ms/step - loss: 0.4118 - accuracy: 0.8914\n",
            "Epoch 45/300\n",
            "118/118 [==============================] - 0s 3ms/step - loss: 0.4109 - accuracy: 0.8916\n",
            "Epoch 46/300\n",
            "118/118 [==============================] - 0s 4ms/step - loss: 0.4100 - accuracy: 0.8919\n",
            "Epoch 47/300\n",
            "118/118 [==============================] - 0s 3ms/step - loss: 0.4091 - accuracy: 0.8920\n",
            "Epoch 48/300\n",
            "118/118 [==============================] - 0s 3ms/step - loss: 0.4082 - accuracy: 0.8921\n",
            "Epoch 49/300\n",
            "118/118 [==============================] - 0s 3ms/step - loss: 0.4073 - accuracy: 0.8923\n",
            "Epoch 50/300\n",
            "118/118 [==============================] - 0s 3ms/step - loss: 0.4064 - accuracy: 0.8927\n",
            "Epoch 51/300\n",
            "118/118 [==============================] - 0s 4ms/step - loss: 0.4055 - accuracy: 0.8928\n",
            "Epoch 52/300\n",
            "118/118 [==============================] - 1s 4ms/step - loss: 0.4046 - accuracy: 0.8929\n",
            "Epoch 53/300\n",
            "118/118 [==============================] - 1s 4ms/step - loss: 0.4037 - accuracy: 0.8931\n",
            "Epoch 54/300\n",
            "118/118 [==============================] - 1s 5ms/step - loss: 0.4028 - accuracy: 0.8933\n",
            "Epoch 55/300\n",
            "118/118 [==============================] - 1s 4ms/step - loss: 0.4020 - accuracy: 0.8937\n",
            "Epoch 56/300\n",
            "118/118 [==============================] - 1s 4ms/step - loss: 0.4011 - accuracy: 0.8937\n",
            "Epoch 57/300\n",
            "118/118 [==============================] - 1s 4ms/step - loss: 0.4002 - accuracy: 0.8939\n",
            "Epoch 58/300\n",
            "118/118 [==============================] - 1s 4ms/step - loss: 0.3994 - accuracy: 0.8942\n",
            "Epoch 59/300\n",
            "118/118 [==============================] - 0s 3ms/step - loss: 0.3985 - accuracy: 0.8944\n",
            "Epoch 60/300\n",
            "118/118 [==============================] - 0s 3ms/step - loss: 0.3977 - accuracy: 0.8946\n",
            "Epoch 61/300\n",
            "118/118 [==============================] - 0s 3ms/step - loss: 0.3968 - accuracy: 0.8949\n",
            "Epoch 62/300\n",
            "118/118 [==============================] - 0s 3ms/step - loss: 0.3960 - accuracy: 0.8951\n",
            "Epoch 63/300\n",
            "118/118 [==============================] - 0s 4ms/step - loss: 0.3951 - accuracy: 0.8954\n",
            "Epoch 64/300\n",
            "118/118 [==============================] - 0s 3ms/step - loss: 0.3943 - accuracy: 0.8956\n",
            "Epoch 65/300\n",
            "118/118 [==============================] - 0s 3ms/step - loss: 0.3934 - accuracy: 0.8959\n",
            "Epoch 66/300\n",
            "118/118 [==============================] - 0s 3ms/step - loss: 0.3926 - accuracy: 0.8960\n",
            "Epoch 67/300\n",
            "118/118 [==============================] - 0s 3ms/step - loss: 0.3918 - accuracy: 0.8963\n",
            "Epoch 68/300\n",
            "118/118 [==============================] - 0s 3ms/step - loss: 0.3910 - accuracy: 0.8966\n",
            "Epoch 69/300\n",
            "118/118 [==============================] - 0s 4ms/step - loss: 0.3901 - accuracy: 0.8969\n",
            "Epoch 70/300\n",
            "118/118 [==============================] - 0s 4ms/step - loss: 0.3893 - accuracy: 0.8971\n",
            "Epoch 71/300\n",
            "118/118 [==============================] - 0s 3ms/step - loss: 0.3885 - accuracy: 0.8975\n",
            "Epoch 72/300\n",
            "118/118 [==============================] - 0s 3ms/step - loss: 0.3877 - accuracy: 0.8976\n",
            "Epoch 73/300\n",
            "118/118 [==============================] - 0s 3ms/step - loss: 0.3869 - accuracy: 0.8980\n",
            "Epoch 74/300\n",
            "118/118 [==============================] - 0s 3ms/step - loss: 0.3861 - accuracy: 0.8982\n",
            "Epoch 75/300\n",
            "118/118 [==============================] - 0s 4ms/step - loss: 0.3853 - accuracy: 0.8984\n",
            "Epoch 76/300\n",
            "118/118 [==============================] - 0s 3ms/step - loss: 0.3845 - accuracy: 0.8986\n",
            "Epoch 77/300\n",
            "118/118 [==============================] - 0s 3ms/step - loss: 0.3837 - accuracy: 0.8988\n",
            "Epoch 78/300\n",
            "118/118 [==============================] - 0s 3ms/step - loss: 0.3830 - accuracy: 0.8990\n",
            "Epoch 79/300\n",
            "118/118 [==============================] - 0s 3ms/step - loss: 0.3822 - accuracy: 0.8991\n",
            "Epoch 80/300\n",
            "118/118 [==============================] - 0s 4ms/step - loss: 0.3814 - accuracy: 0.8995\n",
            "Epoch 81/300\n",
            "118/118 [==============================] - 0s 3ms/step - loss: 0.3806 - accuracy: 0.8996\n",
            "Epoch 82/300\n",
            "118/118 [==============================] - 1s 4ms/step - loss: 0.3798 - accuracy: 0.8999\n",
            "Epoch 83/300\n",
            "118/118 [==============================] - 1s 5ms/step - loss: 0.3791 - accuracy: 0.9000\n",
            "Epoch 84/300\n",
            "118/118 [==============================] - 1s 5ms/step - loss: 0.3783 - accuracy: 0.9003\n",
            "Epoch 85/300\n",
            "118/118 [==============================] - 1s 5ms/step - loss: 0.3775 - accuracy: 0.9005\n",
            "Epoch 86/300\n",
            "118/118 [==============================] - 1s 5ms/step - loss: 0.3768 - accuracy: 0.9008\n",
            "Epoch 87/300\n",
            "118/118 [==============================] - 1s 4ms/step - loss: 0.3760 - accuracy: 0.9010\n",
            "Epoch 88/300\n",
            "118/118 [==============================] - 1s 5ms/step - loss: 0.3753 - accuracy: 0.9013\n",
            "Epoch 89/300\n",
            "118/118 [==============================] - 0s 4ms/step - loss: 0.3745 - accuracy: 0.9015\n",
            "Epoch 90/300\n",
            "118/118 [==============================] - 0s 4ms/step - loss: 0.3738 - accuracy: 0.9017\n",
            "Epoch 91/300\n",
            "118/118 [==============================] - 0s 4ms/step - loss: 0.3730 - accuracy: 0.9020\n",
            "Epoch 92/300\n",
            "118/118 [==============================] - 0s 3ms/step - loss: 0.3723 - accuracy: 0.9021\n",
            "Epoch 93/300\n",
            "118/118 [==============================] - 0s 3ms/step - loss: 0.3716 - accuracy: 0.9023\n",
            "Epoch 94/300\n",
            "118/118 [==============================] - 0s 3ms/step - loss: 0.3708 - accuracy: 0.9025\n",
            "Epoch 95/300\n",
            "118/118 [==============================] - 0s 3ms/step - loss: 0.3701 - accuracy: 0.9027\n",
            "Epoch 96/300\n",
            "118/118 [==============================] - 0s 3ms/step - loss: 0.3694 - accuracy: 0.9028\n",
            "Epoch 97/300\n",
            "118/118 [==============================] - 0s 3ms/step - loss: 0.3686 - accuracy: 0.9031\n",
            "Epoch 98/300\n",
            "118/118 [==============================] - 0s 3ms/step - loss: 0.3679 - accuracy: 0.9034\n",
            "Epoch 99/300\n",
            "118/118 [==============================] - 0s 4ms/step - loss: 0.3672 - accuracy: 0.9035\n",
            "Epoch 100/300\n",
            "118/118 [==============================] - 0s 4ms/step - loss: 0.3665 - accuracy: 0.9036\n",
            "Epoch 101/300\n",
            "118/118 [==============================] - 0s 4ms/step - loss: 0.3658 - accuracy: 0.9040\n",
            "Epoch 102/300\n",
            "118/118 [==============================] - 0s 4ms/step - loss: 0.3651 - accuracy: 0.9040\n",
            "Epoch 103/300\n",
            "118/118 [==============================] - 0s 4ms/step - loss: 0.3644 - accuracy: 0.9043\n",
            "Epoch 104/300\n",
            "118/118 [==============================] - 0s 4ms/step - loss: 0.3637 - accuracy: 0.9043\n",
            "Epoch 105/300\n",
            "118/118 [==============================] - 0s 3ms/step - loss: 0.3630 - accuracy: 0.9048\n",
            "Epoch 106/300\n",
            "118/118 [==============================] - 0s 4ms/step - loss: 0.3623 - accuracy: 0.9049\n",
            "Epoch 107/300\n",
            "118/118 [==============================] - 0s 3ms/step - loss: 0.3616 - accuracy: 0.9051\n",
            "Epoch 108/300\n",
            "118/118 [==============================] - 0s 3ms/step - loss: 0.3609 - accuracy: 0.9052\n",
            "Epoch 109/300\n",
            "118/118 [==============================] - 0s 3ms/step - loss: 0.3602 - accuracy: 0.9053\n",
            "Epoch 110/300\n",
            "118/118 [==============================] - 0s 4ms/step - loss: 0.3595 - accuracy: 0.9057\n",
            "Epoch 111/300\n",
            "118/118 [==============================] - 0s 3ms/step - loss: 0.3588 - accuracy: 0.9058\n",
            "Epoch 112/300\n",
            "118/118 [==============================] - 0s 4ms/step - loss: 0.3581 - accuracy: 0.9060\n",
            "Epoch 113/300\n",
            "118/118 [==============================] - 1s 5ms/step - loss: 0.3575 - accuracy: 0.9064\n",
            "Epoch 114/300\n",
            "118/118 [==============================] - 1s 5ms/step - loss: 0.3568 - accuracy: 0.9065\n",
            "Epoch 115/300\n",
            "118/118 [==============================] - 1s 5ms/step - loss: 0.3561 - accuracy: 0.9067\n",
            "Epoch 116/300\n",
            "118/118 [==============================] - 1s 4ms/step - loss: 0.3555 - accuracy: 0.9071\n",
            "Epoch 117/300\n",
            "118/118 [==============================] - 1s 5ms/step - loss: 0.3548 - accuracy: 0.9072\n",
            "Epoch 118/300\n",
            "118/118 [==============================] - 1s 5ms/step - loss: 0.3541 - accuracy: 0.9074\n",
            "Epoch 119/300\n",
            "118/118 [==============================] - 1s 5ms/step - loss: 0.3535 - accuracy: 0.9076\n",
            "Epoch 120/300\n",
            "118/118 [==============================] - 0s 4ms/step - loss: 0.3528 - accuracy: 0.9078\n",
            "Epoch 121/300\n",
            "118/118 [==============================] - 0s 3ms/step - loss: 0.3522 - accuracy: 0.9078\n",
            "Epoch 122/300\n",
            "118/118 [==============================] - 0s 4ms/step - loss: 0.3515 - accuracy: 0.9081\n",
            "Epoch 123/300\n",
            "118/118 [==============================] - 0s 4ms/step - loss: 0.3508 - accuracy: 0.9083\n",
            "Epoch 124/300\n",
            "118/118 [==============================] - 0s 4ms/step - loss: 0.3502 - accuracy: 0.9082\n",
            "Epoch 125/300\n",
            "118/118 [==============================] - 0s 3ms/step - loss: 0.3496 - accuracy: 0.9085\n",
            "Epoch 126/300\n",
            "118/118 [==============================] - 0s 3ms/step - loss: 0.3489 - accuracy: 0.9086\n",
            "Epoch 127/300\n",
            "118/118 [==============================] - 0s 4ms/step - loss: 0.3483 - accuracy: 0.9088\n",
            "Epoch 128/300\n",
            "118/118 [==============================] - 0s 4ms/step - loss: 0.3476 - accuracy: 0.9089\n",
            "Epoch 129/300\n",
            "118/118 [==============================] - 0s 4ms/step - loss: 0.3470 - accuracy: 0.9091\n",
            "Epoch 130/300\n",
            "118/118 [==============================] - 0s 4ms/step - loss: 0.3464 - accuracy: 0.9093\n",
            "Epoch 131/300\n",
            "118/118 [==============================] - 1s 5ms/step - loss: 0.3457 - accuracy: 0.9096\n",
            "Epoch 132/300\n",
            "118/118 [==============================] - 1s 5ms/step - loss: 0.3451 - accuracy: 0.9096\n",
            "Epoch 133/300\n",
            "118/118 [==============================] - 1s 5ms/step - loss: 0.3445 - accuracy: 0.9098\n",
            "Epoch 134/300\n",
            "118/118 [==============================] - 1s 5ms/step - loss: 0.3439 - accuracy: 0.9099\n",
            "Epoch 135/300\n",
            "118/118 [==============================] - 1s 5ms/step - loss: 0.3432 - accuracy: 0.9102\n",
            "Epoch 136/300\n",
            "118/118 [==============================] - 1s 5ms/step - loss: 0.3426 - accuracy: 0.9104\n",
            "Epoch 137/300\n",
            "118/118 [==============================] - 0s 4ms/step - loss: 0.3420 - accuracy: 0.9106\n",
            "Epoch 138/300\n",
            "118/118 [==============================] - 0s 3ms/step - loss: 0.3414 - accuracy: 0.9107\n",
            "Epoch 139/300\n",
            "118/118 [==============================] - 0s 4ms/step - loss: 0.3408 - accuracy: 0.9109\n",
            "Epoch 140/300\n",
            "118/118 [==============================] - 0s 3ms/step - loss: 0.3402 - accuracy: 0.9109\n",
            "Epoch 141/300\n",
            "118/118 [==============================] - 1s 5ms/step - loss: 0.3396 - accuracy: 0.9111\n",
            "Epoch 142/300\n",
            "118/118 [==============================] - 1s 5ms/step - loss: 0.3390 - accuracy: 0.9112\n",
            "Epoch 143/300\n",
            "118/118 [==============================] - 1s 5ms/step - loss: 0.3384 - accuracy: 0.9115\n",
            "Epoch 144/300\n",
            "118/118 [==============================] - 1s 5ms/step - loss: 0.3378 - accuracy: 0.9116\n",
            "Epoch 145/300\n",
            "118/118 [==============================] - 1s 5ms/step - loss: 0.3372 - accuracy: 0.9117\n",
            "Epoch 146/300\n",
            "118/118 [==============================] - 1s 5ms/step - loss: 0.3366 - accuracy: 0.9121\n",
            "Epoch 147/300\n",
            "118/118 [==============================] - 1s 5ms/step - loss: 0.3360 - accuracy: 0.9122\n",
            "Epoch 148/300\n",
            "118/118 [==============================] - 0s 4ms/step - loss: 0.3354 - accuracy: 0.9122\n",
            "Epoch 149/300\n",
            "118/118 [==============================] - 0s 4ms/step - loss: 0.3348 - accuracy: 0.9124\n",
            "Epoch 150/300\n",
            "118/118 [==============================] - 0s 3ms/step - loss: 0.3342 - accuracy: 0.9126\n",
            "Epoch 151/300\n",
            "118/118 [==============================] - 0s 4ms/step - loss: 0.3336 - accuracy: 0.9127\n",
            "Epoch 152/300\n",
            "118/118 [==============================] - 0s 4ms/step - loss: 0.3331 - accuracy: 0.9128\n",
            "Epoch 153/300\n",
            "118/118 [==============================] - 0s 4ms/step - loss: 0.3325 - accuracy: 0.9129\n",
            "Epoch 154/300\n",
            "118/118 [==============================] - 0s 4ms/step - loss: 0.3319 - accuracy: 0.9130\n",
            "Epoch 155/300\n",
            "118/118 [==============================] - 0s 4ms/step - loss: 0.3313 - accuracy: 0.9132\n",
            "Epoch 156/300\n",
            "118/118 [==============================] - 0s 4ms/step - loss: 0.3308 - accuracy: 0.9135\n",
            "Epoch 157/300\n",
            "118/118 [==============================] - 0s 3ms/step - loss: 0.3302 - accuracy: 0.9137\n",
            "Epoch 158/300\n",
            "118/118 [==============================] - 0s 4ms/step - loss: 0.3296 - accuracy: 0.9140\n",
            "Epoch 159/300\n",
            "118/118 [==============================] - 0s 4ms/step - loss: 0.3290 - accuracy: 0.9140\n",
            "Epoch 160/300\n",
            "118/118 [==============================] - 0s 4ms/step - loss: 0.3285 - accuracy: 0.9142\n",
            "Epoch 161/300\n",
            "118/118 [==============================] - 0s 4ms/step - loss: 0.3279 - accuracy: 0.9144\n",
            "Epoch 162/300\n",
            "118/118 [==============================] - 0s 4ms/step - loss: 0.3274 - accuracy: 0.9145\n",
            "Epoch 163/300\n",
            "118/118 [==============================] - 0s 3ms/step - loss: 0.3268 - accuracy: 0.9145\n",
            "Epoch 164/300\n",
            "118/118 [==============================] - 0s 4ms/step - loss: 0.3262 - accuracy: 0.9147\n",
            "Epoch 165/300\n",
            "118/118 [==============================] - 0s 3ms/step - loss: 0.3257 - accuracy: 0.9149\n",
            "Epoch 166/300\n",
            "118/118 [==============================] - 0s 3ms/step - loss: 0.3251 - accuracy: 0.9149\n",
            "Epoch 167/300\n",
            "118/118 [==============================] - 0s 3ms/step - loss: 0.3246 - accuracy: 0.9151\n",
            "Epoch 168/300\n",
            "118/118 [==============================] - 0s 4ms/step - loss: 0.3240 - accuracy: 0.9152\n",
            "Epoch 169/300\n",
            "118/118 [==============================] - 0s 4ms/step - loss: 0.3235 - accuracy: 0.9153\n",
            "Epoch 170/300\n",
            "118/118 [==============================] - 0s 3ms/step - loss: 0.3230 - accuracy: 0.9154\n",
            "Epoch 171/300\n",
            "118/118 [==============================] - 1s 5ms/step - loss: 0.3224 - accuracy: 0.9157\n",
            "Epoch 172/300\n",
            "118/118 [==============================] - 1s 5ms/step - loss: 0.3219 - accuracy: 0.9157\n",
            "Epoch 173/300\n",
            "118/118 [==============================] - 1s 5ms/step - loss: 0.3213 - accuracy: 0.9159\n",
            "Epoch 174/300\n",
            "118/118 [==============================] - 1s 4ms/step - loss: 0.3208 - accuracy: 0.9161\n",
            "Epoch 175/300\n",
            "118/118 [==============================] - 1s 5ms/step - loss: 0.3203 - accuracy: 0.9162\n",
            "Epoch 176/300\n",
            "118/118 [==============================] - 1s 5ms/step - loss: 0.3197 - accuracy: 0.9162\n",
            "Epoch 177/300\n",
            "118/118 [==============================] - 1s 5ms/step - loss: 0.3192 - accuracy: 0.9164\n",
            "Epoch 178/300\n",
            "118/118 [==============================] - 0s 4ms/step - loss: 0.3187 - accuracy: 0.9167\n",
            "Epoch 179/300\n",
            "118/118 [==============================] - 0s 3ms/step - loss: 0.3182 - accuracy: 0.9168\n",
            "Epoch 180/300\n",
            "118/118 [==============================] - 0s 3ms/step - loss: 0.3176 - accuracy: 0.9168\n",
            "Epoch 181/300\n",
            "118/118 [==============================] - 0s 3ms/step - loss: 0.3171 - accuracy: 0.9171\n",
            "Epoch 182/300\n",
            "118/118 [==============================] - 0s 4ms/step - loss: 0.3166 - accuracy: 0.9171\n",
            "Epoch 183/300\n",
            "118/118 [==============================] - 0s 4ms/step - loss: 0.3161 - accuracy: 0.9173\n",
            "Epoch 184/300\n",
            "118/118 [==============================] - 0s 3ms/step - loss: 0.3156 - accuracy: 0.9175\n",
            "Epoch 185/300\n",
            "118/118 [==============================] - 0s 4ms/step - loss: 0.3151 - accuracy: 0.9174\n",
            "Epoch 186/300\n",
            "118/118 [==============================] - 0s 3ms/step - loss: 0.3145 - accuracy: 0.9177\n",
            "Epoch 187/300\n",
            "118/118 [==============================] - 0s 3ms/step - loss: 0.3140 - accuracy: 0.9180\n",
            "Epoch 188/300\n",
            "118/118 [==============================] - 0s 4ms/step - loss: 0.3135 - accuracy: 0.9180\n",
            "Epoch 189/300\n",
            "118/118 [==============================] - 0s 3ms/step - loss: 0.3130 - accuracy: 0.9182\n",
            "Epoch 190/300\n",
            "118/118 [==============================] - 0s 3ms/step - loss: 0.3125 - accuracy: 0.9184\n",
            "Epoch 191/300\n",
            "118/118 [==============================] - 0s 3ms/step - loss: 0.3120 - accuracy: 0.9185\n",
            "Epoch 192/300\n",
            "118/118 [==============================] - 0s 3ms/step - loss: 0.3115 - accuracy: 0.9186\n",
            "Epoch 193/300\n",
            "118/118 [==============================] - 0s 3ms/step - loss: 0.3110 - accuracy: 0.9188\n",
            "Epoch 194/300\n",
            "118/118 [==============================] - 0s 4ms/step - loss: 0.3105 - accuracy: 0.9189\n",
            "Epoch 195/300\n",
            "118/118 [==============================] - 0s 4ms/step - loss: 0.3100 - accuracy: 0.9191\n",
            "Epoch 196/300\n",
            "118/118 [==============================] - 0s 3ms/step - loss: 0.3095 - accuracy: 0.9192\n",
            "Epoch 197/300\n",
            "118/118 [==============================] - 0s 4ms/step - loss: 0.3090 - accuracy: 0.9193\n",
            "Epoch 198/300\n",
            "118/118 [==============================] - 0s 3ms/step - loss: 0.3085 - accuracy: 0.9196\n",
            "Epoch 199/300\n",
            "118/118 [==============================] - 0s 3ms/step - loss: 0.3081 - accuracy: 0.9194\n",
            "Epoch 200/300\n",
            "118/118 [==============================] - 0s 4ms/step - loss: 0.3076 - accuracy: 0.9198\n",
            "Epoch 201/300\n",
            "118/118 [==============================] - 0s 4ms/step - loss: 0.3071 - accuracy: 0.9198\n",
            "Epoch 202/300\n",
            "118/118 [==============================] - 1s 5ms/step - loss: 0.3066 - accuracy: 0.9200\n",
            "Epoch 203/300\n",
            "118/118 [==============================] - 1s 5ms/step - loss: 0.3061 - accuracy: 0.9201\n",
            "Epoch 204/300\n",
            "118/118 [==============================] - 1s 5ms/step - loss: 0.3056 - accuracy: 0.9204\n",
            "Epoch 205/300\n",
            "118/118 [==============================] - 1s 5ms/step - loss: 0.3052 - accuracy: 0.9205\n",
            "Epoch 206/300\n",
            "118/118 [==============================] - 1s 5ms/step - loss: 0.3047 - accuracy: 0.9205\n",
            "Epoch 207/300\n",
            "118/118 [==============================] - 1s 5ms/step - loss: 0.3042 - accuracy: 0.9207\n",
            "Epoch 208/300\n",
            "118/118 [==============================] - 1s 5ms/step - loss: 0.3037 - accuracy: 0.9208\n",
            "Epoch 209/300\n",
            "118/118 [==============================] - 0s 3ms/step - loss: 0.3033 - accuracy: 0.9208\n",
            "Epoch 210/300\n",
            "118/118 [==============================] - 0s 4ms/step - loss: 0.3028 - accuracy: 0.9211\n",
            "Epoch 211/300\n",
            "118/118 [==============================] - 0s 3ms/step - loss: 0.3023 - accuracy: 0.9211\n",
            "Epoch 212/300\n",
            "118/118 [==============================] - 0s 4ms/step - loss: 0.3019 - accuracy: 0.9213\n",
            "Epoch 213/300\n",
            "118/118 [==============================] - 0s 3ms/step - loss: 0.3014 - accuracy: 0.9214\n",
            "Epoch 214/300\n",
            "118/118 [==============================] - 0s 4ms/step - loss: 0.3010 - accuracy: 0.9216\n",
            "Epoch 215/300\n",
            "118/118 [==============================] - 0s 3ms/step - loss: 0.3005 - accuracy: 0.9217\n",
            "Epoch 216/300\n",
            "118/118 [==============================] - 0s 3ms/step - loss: 0.3000 - accuracy: 0.9217\n",
            "Epoch 217/300\n",
            "118/118 [==============================] - 0s 4ms/step - loss: 0.2996 - accuracy: 0.9218\n",
            "Epoch 218/300\n",
            "118/118 [==============================] - 0s 4ms/step - loss: 0.2991 - accuracy: 0.9219\n",
            "Epoch 219/300\n",
            "118/118 [==============================] - 0s 4ms/step - loss: 0.2987 - accuracy: 0.9219\n",
            "Epoch 220/300\n",
            "118/118 [==============================] - 0s 4ms/step - loss: 0.2982 - accuracy: 0.9221\n",
            "Epoch 221/300\n",
            "118/118 [==============================] - 0s 3ms/step - loss: 0.2978 - accuracy: 0.9221\n",
            "Epoch 222/300\n",
            "118/118 [==============================] - 0s 3ms/step - loss: 0.2973 - accuracy: 0.9223\n",
            "Epoch 223/300\n",
            "118/118 [==============================] - 0s 4ms/step - loss: 0.2969 - accuracy: 0.9222\n",
            "Epoch 224/300\n",
            "118/118 [==============================] - 0s 4ms/step - loss: 0.2964 - accuracy: 0.9225\n",
            "Epoch 225/300\n",
            "118/118 [==============================] - 0s 4ms/step - loss: 0.2960 - accuracy: 0.9225\n",
            "Epoch 226/300\n",
            "118/118 [==============================] - 0s 4ms/step - loss: 0.2955 - accuracy: 0.9226\n",
            "Epoch 227/300\n",
            "118/118 [==============================] - 0s 4ms/step - loss: 0.2951 - accuracy: 0.9228\n",
            "Epoch 228/300\n",
            "118/118 [==============================] - 0s 3ms/step - loss: 0.2946 - accuracy: 0.9229\n",
            "Epoch 229/300\n",
            "118/118 [==============================] - 0s 4ms/step - loss: 0.2942 - accuracy: 0.9228\n",
            "Epoch 230/300\n",
            "118/118 [==============================] - 0s 3ms/step - loss: 0.2938 - accuracy: 0.9230\n",
            "Epoch 231/300\n",
            "118/118 [==============================] - 0s 4ms/step - loss: 0.2934 - accuracy: 0.9230\n",
            "Epoch 232/300\n",
            "118/118 [==============================] - 1s 5ms/step - loss: 0.2929 - accuracy: 0.9233\n",
            "Epoch 233/300\n",
            "118/118 [==============================] - 1s 5ms/step - loss: 0.2925 - accuracy: 0.9234\n",
            "Epoch 234/300\n",
            "118/118 [==============================] - 1s 5ms/step - loss: 0.2920 - accuracy: 0.9237\n",
            "Epoch 235/300\n",
            "118/118 [==============================] - 1s 5ms/step - loss: 0.2916 - accuracy: 0.9237\n",
            "Epoch 236/300\n",
            "118/118 [==============================] - 1s 5ms/step - loss: 0.2912 - accuracy: 0.9237\n",
            "Epoch 237/300\n",
            "118/118 [==============================] - 1s 4ms/step - loss: 0.2908 - accuracy: 0.9237\n",
            "Epoch 238/300\n",
            "118/118 [==============================] - 1s 5ms/step - loss: 0.2903 - accuracy: 0.9237\n",
            "Epoch 239/300\n",
            "118/118 [==============================] - 0s 4ms/step - loss: 0.2899 - accuracy: 0.9239\n",
            "Epoch 240/300\n",
            "118/118 [==============================] - 0s 3ms/step - loss: 0.2895 - accuracy: 0.9240\n",
            "Epoch 241/300\n",
            "118/118 [==============================] - 0s 4ms/step - loss: 0.2891 - accuracy: 0.9242\n",
            "Epoch 242/300\n",
            "118/118 [==============================] - 0s 4ms/step - loss: 0.2887 - accuracy: 0.9244\n",
            "Epoch 243/300\n",
            "118/118 [==============================] - 0s 4ms/step - loss: 0.2882 - accuracy: 0.9245\n",
            "Epoch 244/300\n",
            "118/118 [==============================] - 0s 3ms/step - loss: 0.2878 - accuracy: 0.9245\n",
            "Epoch 245/300\n",
            "118/118 [==============================] - 0s 4ms/step - loss: 0.2874 - accuracy: 0.9248\n",
            "Epoch 246/300\n",
            "118/118 [==============================] - 0s 4ms/step - loss: 0.2870 - accuracy: 0.9249\n",
            "Epoch 247/300\n",
            "118/118 [==============================] - 0s 3ms/step - loss: 0.2866 - accuracy: 0.9250\n",
            "Epoch 248/300\n",
            "118/118 [==============================] - 0s 4ms/step - loss: 0.2862 - accuracy: 0.9253\n",
            "Epoch 249/300\n",
            "118/118 [==============================] - 0s 4ms/step - loss: 0.2858 - accuracy: 0.9254\n",
            "Epoch 250/300\n",
            "118/118 [==============================] - 0s 4ms/step - loss: 0.2854 - accuracy: 0.9253\n",
            "Epoch 251/300\n",
            "118/118 [==============================] - 0s 4ms/step - loss: 0.2850 - accuracy: 0.9255\n",
            "Epoch 252/300\n",
            "118/118 [==============================] - 0s 3ms/step - loss: 0.2846 - accuracy: 0.9255\n",
            "Epoch 253/300\n",
            "118/118 [==============================] - 0s 4ms/step - loss: 0.2842 - accuracy: 0.9258\n",
            "Epoch 254/300\n",
            "118/118 [==============================] - 0s 4ms/step - loss: 0.2838 - accuracy: 0.9256\n",
            "Epoch 255/300\n",
            "118/118 [==============================] - 0s 4ms/step - loss: 0.2834 - accuracy: 0.9258\n",
            "Epoch 256/300\n",
            "118/118 [==============================] - 0s 3ms/step - loss: 0.2830 - accuracy: 0.9259\n",
            "Epoch 257/300\n",
            "118/118 [==============================] - 0s 4ms/step - loss: 0.2826 - accuracy: 0.9261\n",
            "Epoch 258/300\n",
            "118/118 [==============================] - 0s 4ms/step - loss: 0.2822 - accuracy: 0.9262\n",
            "Epoch 259/300\n",
            "118/118 [==============================] - 0s 4ms/step - loss: 0.2818 - accuracy: 0.9263\n",
            "Epoch 260/300\n",
            "118/118 [==============================] - 0s 4ms/step - loss: 0.2814 - accuracy: 0.9263\n",
            "Epoch 261/300\n",
            "118/118 [==============================] - 0s 4ms/step - loss: 0.2810 - accuracy: 0.9265\n",
            "Epoch 262/300\n",
            "118/118 [==============================] - 1s 5ms/step - loss: 0.2806 - accuracy: 0.9267\n",
            "Epoch 263/300\n",
            "118/118 [==============================] - 1s 5ms/step - loss: 0.2802 - accuracy: 0.9267\n",
            "Epoch 264/300\n",
            "118/118 [==============================] - 1s 5ms/step - loss: 0.2798 - accuracy: 0.9268\n",
            "Epoch 265/300\n",
            "118/118 [==============================] - 1s 5ms/step - loss: 0.2794 - accuracy: 0.9269\n",
            "Epoch 266/300\n",
            "118/118 [==============================] - 1s 6ms/step - loss: 0.2790 - accuracy: 0.9270\n",
            "Epoch 267/300\n",
            "118/118 [==============================] - 1s 6ms/step - loss: 0.2787 - accuracy: 0.9272\n",
            "Epoch 268/300\n",
            "118/118 [==============================] - 1s 6ms/step - loss: 0.2783 - accuracy: 0.9273\n",
            "Epoch 269/300\n",
            "118/118 [==============================] - 1s 6ms/step - loss: 0.2779 - accuracy: 0.9275\n",
            "Epoch 270/300\n",
            "118/118 [==============================] - 1s 6ms/step - loss: 0.2775 - accuracy: 0.9275\n",
            "Epoch 271/300\n",
            "118/118 [==============================] - 1s 5ms/step - loss: 0.2771 - accuracy: 0.9276\n",
            "Epoch 272/300\n",
            "118/118 [==============================] - 1s 5ms/step - loss: 0.2768 - accuracy: 0.9277\n",
            "Epoch 273/300\n",
            "118/118 [==============================] - 1s 5ms/step - loss: 0.2764 - accuracy: 0.9279\n",
            "Epoch 274/300\n",
            "118/118 [==============================] - 1s 5ms/step - loss: 0.2760 - accuracy: 0.9280\n",
            "Epoch 275/300\n",
            "118/118 [==============================] - 0s 4ms/step - loss: 0.2756 - accuracy: 0.9280\n",
            "Epoch 276/300\n",
            "118/118 [==============================] - 0s 4ms/step - loss: 0.2753 - accuracy: 0.9281\n",
            "Epoch 277/300\n",
            "118/118 [==============================] - 0s 4ms/step - loss: 0.2749 - accuracy: 0.9283\n",
            "Epoch 278/300\n",
            "118/118 [==============================] - 0s 4ms/step - loss: 0.2745 - accuracy: 0.9283\n",
            "Epoch 279/300\n",
            "118/118 [==============================] - 0s 3ms/step - loss: 0.2741 - accuracy: 0.9284\n",
            "Epoch 280/300\n",
            "118/118 [==============================] - 0s 4ms/step - loss: 0.2738 - accuracy: 0.9285\n",
            "Epoch 281/300\n",
            "118/118 [==============================] - 0s 4ms/step - loss: 0.2734 - accuracy: 0.9287\n",
            "Epoch 282/300\n",
            "118/118 [==============================] - 0s 4ms/step - loss: 0.2730 - accuracy: 0.9287\n",
            "Epoch 283/300\n",
            "118/118 [==============================] - 0s 4ms/step - loss: 0.2727 - accuracy: 0.9287\n",
            "Epoch 284/300\n",
            "118/118 [==============================] - 0s 3ms/step - loss: 0.2723 - accuracy: 0.9290\n",
            "Epoch 285/300\n",
            "118/118 [==============================] - 0s 4ms/step - loss: 0.2720 - accuracy: 0.9291\n",
            "Epoch 286/300\n",
            "118/118 [==============================] - 0s 4ms/step - loss: 0.2716 - accuracy: 0.9291\n",
            "Epoch 287/300\n",
            "118/118 [==============================] - 0s 4ms/step - loss: 0.2712 - accuracy: 0.9291\n",
            "Epoch 288/300\n",
            "118/118 [==============================] - 0s 4ms/step - loss: 0.2709 - accuracy: 0.9294\n",
            "Epoch 289/300\n",
            "118/118 [==============================] - 0s 4ms/step - loss: 0.2705 - accuracy: 0.9295\n",
            "Epoch 290/300\n",
            "118/118 [==============================] - 0s 4ms/step - loss: 0.2702 - accuracy: 0.9295\n",
            "Epoch 291/300\n",
            "118/118 [==============================] - 0s 4ms/step - loss: 0.2698 - accuracy: 0.9297\n",
            "Epoch 292/300\n",
            "118/118 [==============================] - 1s 5ms/step - loss: 0.2695 - accuracy: 0.9297\n",
            "Epoch 293/300\n",
            "118/118 [==============================] - 1s 5ms/step - loss: 0.2691 - accuracy: 0.9298\n",
            "Epoch 294/300\n",
            "118/118 [==============================] - 1s 5ms/step - loss: 0.2687 - accuracy: 0.9299\n",
            "Epoch 295/300\n",
            "118/118 [==============================] - 1s 5ms/step - loss: 0.2684 - accuracy: 0.9299\n",
            "Epoch 296/300\n",
            "118/118 [==============================] - 1s 5ms/step - loss: 0.2681 - accuracy: 0.9301\n",
            "Epoch 297/300\n",
            "118/118 [==============================] - 1s 5ms/step - loss: 0.2677 - accuracy: 0.9303\n",
            "Epoch 298/300\n",
            "118/118 [==============================] - 1s 5ms/step - loss: 0.2674 - accuracy: 0.9303\n",
            "Epoch 299/300\n",
            "118/118 [==============================] - 0s 4ms/step - loss: 0.2670 - accuracy: 0.9305\n",
            "Epoch 300/300\n",
            "118/118 [==============================] - 0s 4ms/step - loss: 0.2667 - accuracy: 0.9304\n"
          ]
        },
        {
          "output_type": "execute_result",
          "data": {
            "text/plain": [
              "<keras.callbacks.History at 0x7f4f54b2b730>"
            ]
          },
          "metadata": {},
          "execution_count": 22
        }
      ]
    },
    {
      "cell_type": "markdown",
      "metadata": {
        "id": "heVasO26zp6V"
      },
      "source": [
        "- Two quantities are displayed during training:\n",
        "    - The loss of the network over the training data\n",
        "    - The accuracy of the network over the training data\n",
        "    \n",
        "- We quickly reach an accuracy of **$0.9886 (98.86\\%)$** on the training data."
      ]
    },
    {
      "cell_type": "markdown",
      "metadata": {
        "id": "0eDaNGAYzp6X"
      },
      "source": [
        "- Now let's check that the model performs well on the test set, too:"
      ]
    },
    {
      "cell_type": "code",
      "metadata": {
        "id": "2-UhmyTWzp6Y",
        "colab": {
          "base_uri": "https://localhost:8080/"
        },
        "outputId": "832111b1-5cc5-4e96-8df4-523d4c018f1f"
      },
      "source": [
        "test_loss, test_acc = network.evaluate(test_images, test_labels)"
      ],
      "execution_count": 23,
      "outputs": [
        {
          "output_type": "stream",
          "name": "stdout",
          "text": [
            "313/313 [==============================] - 1s 2ms/step - loss: 0.2646 - accuracy: 0.9294\n"
          ]
        }
      ]
    },
    {
      "cell_type": "code",
      "metadata": {
        "id": "omz-cZXLzp6d",
        "colab": {
          "base_uri": "https://localhost:8080/"
        },
        "outputId": "4519dc74-4f19-4c49-987a-765b5bbdf1b4"
      },
      "source": [
        "print('Test Accuracy: {:.5f} '.format(test_acc))"
      ],
      "execution_count": 24,
      "outputs": [
        {
          "output_type": "stream",
          "name": "stdout",
          "text": [
            "Test Accuracy: 0.92940 \n"
          ]
        }
      ]
    },
    {
      "cell_type": "code",
      "metadata": {
        "id": "cbIp64KFzp6g",
        "colab": {
          "base_uri": "https://localhost:8080/"
        },
        "outputId": "13da96ac-bc64-479d-a39c-7553c49cb311"
      },
      "source": [
        "test_acc"
      ],
      "execution_count": 25,
      "outputs": [
        {
          "output_type": "execute_result",
          "data": {
            "text/plain": [
              "0.9294000267982483"
            ]
          },
          "metadata": {},
          "execution_count": 25
        }
      ]
    },
    {
      "cell_type": "markdown",
      "metadata": {
        "id": "yi5jDr-0zp6k"
      },
      "source": [
        "- The test-set accuracy turns out to be $97.780\\%$--that is quite a bit lower than the training set accuracy. This gap between training and test accuracy is an example of **overfitting**:the fact that the ML models tend to perform worse on new data than on their training data."
      ]
    },
    {
      "cell_type": "code",
      "metadata": {
        "id": "JOu1IQW6zp6l",
        "colab": {
          "base_uri": "https://localhost:8080/",
          "height": 369
        },
        "outputId": "a9f30d1c-257f-4dd0-dfc5-3caf86e7707f"
      },
      "source": [
        "from keras.utils import plot_model\n",
        "plot_model(network, to_file='model.png')"
      ],
      "execution_count": 26,
      "outputs": [
        {
          "output_type": "execute_result",
          "data": {
            "image/png": "[encoded data removed]",
            "text/plain": [
              "<IPython.core.display.Image object>"
            ]
          },
          "metadata": {},
          "execution_count": 26
        }
      ]
    },
    {
      "cell_type": "code",
      "metadata": {
        "id": "LVvUxpAkOQuz",
        "colab": {
          "base_uri": "https://localhost:8080/",
          "height": 764
        },
        "outputId": "05dbea49-6d46-49be-ab6a-08b08c800d1f"
      },
      "source": [
        " import matplotlib.pyplot as plt\n",
        "history =network.fit(train_images, train_labels, validation_split=0.33,epochs=5, batch_size=512)\n",
        "history_dict = history.history\n",
        "print(history_dict.keys())\n",
        "plt.plot(history.history['accuracy'])\n",
        "plt.plot(history.history['val_accuracy'])\n",
        "plt.title('Model accuracy')\n",
        "plt.ylabel('Accuracy')\n",
        "plt.xlabel('Epoch')\n",
        "plt.legend(['Train', 'Test'], loc='upper left')\n",
        "plt.show()\n",
        "\n",
        "# Plot training & validation loss values\n",
        "plt.plot(history.history['loss'])\n",
        "plt.plot(history.history['val_loss'])\n",
        "plt.title('Model loss')\n",
        "plt.ylabel('Loss')\n",
        "plt.xlabel('Epoch')\n",
        "plt.legend(['Train', 'Test'], loc='upper left')\n",
        "plt.show()"
      ],
      "execution_count": 27,
      "outputs": [
        {
          "output_type": "stream",
          "name": "stdout",
          "text": [
            "Epoch 1/5\n",
            "79/79 [==============================] - 1s 7ms/step - loss: 0.2682 - accuracy: 0.9300 - val_loss: 0.2626 - val_accuracy: 0.9315\n",
            "Epoch 2/5\n",
            "79/79 [==============================] - 0s 5ms/step - loss: 0.2679 - accuracy: 0.9303 - val_loss: 0.2625 - val_accuracy: 0.9315\n",
            "Epoch 3/5\n",
            "79/79 [==============================] - 0s 5ms/step - loss: 0.2676 - accuracy: 0.9303 - val_loss: 0.2624 - val_accuracy: 0.9316\n",
            "Epoch 4/5\n",
            "79/79 [==============================] - 1s 10ms/step - loss: 0.2674 - accuracy: 0.9303 - val_loss: 0.2623 - val_accuracy: 0.9316\n",
            "Epoch 5/5\n",
            "79/79 [==============================] - 1s 7ms/step - loss: 0.2671 - accuracy: 0.9304 - val_loss: 0.2621 - val_accuracy: 0.9315\n",
            "dict_keys(['loss', 'accuracy', 'val_loss', 'val_accuracy'])\n"
          ]
        },
        {
          "output_type": "display_data",
          "data": {
            "text/plain": [
              "<Figure size 432x288 with 1 Axes>"
            ],
            "image/png": "[encoded data removed]"
          },
          "metadata": {
            "needs_background": "light"
          }
        },
        {
          "output_type": "display_data",
          "data": {
            "text/plain": [
              "<Figure size 432x288 with 1 Axes>"
            ],
            "image/png": "[encoded data removed]"
          },
          "metadata": {
            "needs_background": "light"
          }
        }
      ]
    }
  ]
}